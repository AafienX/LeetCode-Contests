{
  "metadata": {
    "kernelspec": {
      "name": "python",
      "display_name": "Python (Pyodide)",
      "language": "python"
    },
    "language_info": {
      "codemirror_mode": {
        "name": "python",
        "version": 3
      },
      "file_extension": ".py",
      "mimetype": "text/x-python",
      "name": "python",
      "nbconvert_exporter": "python",
      "pygments_lexer": "ipython3",
      "version": "3.8"
    }
  },
  "nbformat_minor": 4,
  "nbformat": 4,
  "cells": [
    {
      "cell_type": "markdown",
      "source": "3151. Special Array I\nSolved\nEasy\nTopics\nCompanies\nHint\nAn array is considered special if every pair of its adjacent elements contains two numbers with different parity.\n\nYou are given an array of integers nums. Return true if nums is a special array, otherwise, return false.\n\n \n\nExample 1:\n\nInput: nums = [1]\n\nOutput: true\n\nExplanation:\n\nThere is only one element. So the answer is true.\n\nExample 2:\n\nInput: nums = [2,1,4]\n\nOutput: true\n\nExplanation:\n\nThere is only two pairs: (2,1) and (1,4), and both of them contain numbers with different parity. So the answer is true.\n\nExample 3:\n\nInput: nums = [4,3,1,6]\n\nOutput: false\n\nExplanation:\n\nnums[1] and nums[2] are both odd. So the answer is false.",
      "metadata": {}
    },
    {
      "cell_type": "code",
      "source": "class Solution:\n    def isArraySpecial(self, nums: List[int]) -> bool:\n        if len(nums)<=1:\n            return True\n        for i in range(len(nums)-1):\n            if (nums[i]+nums[i+1])%2==0:\n                return False\n        return True\n                ",
      "metadata": {
        "trusted": true
      },
      "outputs": [],
      "execution_count": null
    },
    {
      "cell_type": "markdown",
      "source": "3152. Special Array II\nAttempted\nMedium\nTopics\nCompanies\nHint\nAn array is considered special if every pair of its adjacent elements contains two numbers with different parity.\n\nYou are given an array of integer nums and a 2D integer matrix queries, where for queries[i] = [fromi, toi] your task is to check that \nsubarray\n nums[fromi..toi] is special or not.\n\nReturn an array of booleans answer such that answer[i] is true if nums[fromi..toi] is special.\n\n \n\nExample 1:\n\nInput: nums = [3,4,1,2,6], queries = [[0,4]]\n\nOutput: [false]\n\nExplanation:\n\nThe subarray is [3,4,1,2,6]. 2 and 6 are both even.\n\nExample 2:\n\nInput: nums = [4,3,1,6], queries = [[0,2],[2,3]]\n\nOutput: [false,true]\n\nExplanation:\n\nThe subarray is [4,3,1]. 3 and 1 are both odd. So the answer to this query is false.\nThe subarray is [1,6]. There is only one pair: (1,6) and it contains numbers with different parity. So the answer to this query is true.\n \n\nConstraints:\n\n1 <= nums.length <= 105\n1 <= nums[i] <= 105\n1 <= queries.length <= 105\nqueries[i].length == 2\n0 <= queries[i][0] <= queries[i][1] <= nums.length - 1",
      "metadata": {}
    },
    {
      "cell_type": "code",
      "source": "class Solution:\n    def isArraySpecial(self, nums: List[int], queries: List[List[int]]) -> List[bool]:\n        res=[-1]*len(queries)\n        for n,(i,j) in enumerate(queries):\n            for k in range(i,j):\n                if (nums[k]+nums[k+1])%2==0:\n                    res[n]=False\n\n            if res[n]==-1:\n                res[n]=True\n        return res\n        \n  #TIME LIMIT EXCEEDED  \n  #XOR would be useful\n    ",
      "metadata": {
        "trusted": true
      },
      "outputs": [],
      "execution_count": null
    },
    {
      "cell_type": "code",
      "source": "3153. Sum of Digit Differences of All Pairs\nAttempted\nMedium\nTopics\nCompanies\nHint\nYou are given an array nums consisting of positive integers where all integers have the same number of digits.\n\nThe digit difference between two integers is the count of different digits that are in the same position in the two integers.\n\nReturn the sum of the digit differences between all pairs of integers in nums.\n\n \n\nExample 1:\n\nInput: nums = [13,23,12]\n\nOutput: 4\n\nExplanation:\nWe have the following:\n- The digit difference between 13 and 23 is 1.\n- The digit difference between 13 and 12 is 1.\n- The digit difference between 23 and 12 is 2.\nSo the total sum of digit differences between all pairs of integers is 1 + 1 + 2 = 4.\n\nExample 2:\n\nInput: nums = [10,10,10,10]\n\nOutput: 0\n\nExplanation:\nAll the integers in the array are the same. So the total sum of digit differences between all pairs of integers will be 0.\n\n \n\nConstraints:\n\n2 <= nums.length <= 105\n1 <= nums[i] < 109\nAll integers in nums have the same number of digits.",
      "metadata": {
        "trusted": true
      },
      "outputs": [],
      "execution_count": null
    },
    {
      "cell_type": "code",
      "source": "class Solution:\n    def sumDigitDifferences(self, nums: List[int]) -> int:\n        \n        for i in range(len(nums)):\n            nums[i]=str(nums[i])\n        s=len(nums[0])\n        count=0\n        for i in range(len(nums)-1):\n\n            for j in range(i+1,len(nums)):\n                for t in range(s):\n\n                    if nums[i][t]!=nums[j][t]:\n                        count+=1\n\n        return count\n    #TIME LIMIT EXCEEDED\n    # Count occurence of digit from 0 to 9 for each position t sum the fibbonachi of occurrence -1",
      "metadata": {
        "trusted": true
      },
      "outputs": [],
      "execution_count": null
    }
  ]
}